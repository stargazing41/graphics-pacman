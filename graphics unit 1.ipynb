{
 "cells": [
  {
   "cell_type": "code",
   "execution_count": null,
   "metadata": {},
   "outputs": [],
   "source": [
    "import turtle\n",
    "import time\n",
    "import random\n",
    "\n",
    "pen=turtle.Turtle()\n",
    "d=0\n",
    "h=1\n",
    "while d<h:\n",
    "    turtle.shape('turtle')\n",
    "    turtle.setup(500,500)\n",
    "    turtle.penup()\n",
    "    turtle.Screen().bgcolor(\"blue\")\n",
    "    turtle.turtlesize(10,10,2)\n",
    "    turtle.resizemode(\"auto\")\n",
    "    turtle.turtlesize(outline=10)\n",
    "    turtle.color('green')\n",
    "    h=random.randint(1,4)\n",
    "    if h==1:\n",
    "        turtle.forward(100)\n",
    "        time.sleep(2)\n",
    "    if h==2:\n",
    "        turtle.back(100)\n",
    "        time.sleep(1)\n",
    "        pen.write(\"mario time\" , font=(\"Open Sans\", 60, \"normal\"))\n",
    "    if h==3:\n",
    "        turtle.right(100)\n",
    "    if h==4:\n",
    "        turtle.left(60)\n",
    "        pen.write(\"oh ya i did it\", font=(\"Open Sans\", 60, \"normal\"))"
   ]
  },
  {
   "cell_type": "code",
   "execution_count": null,
   "metadata": {},
   "outputs": [],
   "source": [
    "import turtle\n",
    "import random\n",
    "import time\n",
    "\n",
    "pen=turtle.Turtle()\n",
    "turtle_stamp = turtle.Turtle()\n",
    "turtle.shape('turtle')\n",
    "turtle.setup(1000,1000)\n",
    "turtle.Screen().bgcolor(\"yellow\")\n",
    "turtle.turtlesize(5,5,2)\n",
    "turtle_stamp.shape('turtle')\n",
    "turtle_stamp.color('green')\n",
    "for to in range (1, 5):\n",
    "    pen.forward(100)\n",
    "    pen.left(90)\n",
    "c=0\n",
    "while c<=8:\n",
    "    turtle.penup()\n",
    "    turtle.forward(10)\n",
    "    time.sleep(1)\n",
    "    c=c+1\n",
    "turtle.left(90)\n",
    "turtle.forward(20)\n",
    "o=0\n",
    "while o<=20:\n",
    "    i=random.randint(1,2)\n",
    "    if i == 1:\n",
    "        turtle.forward(50)\n",
    "        time.sleep(0.5)\n",
    "    if i == 2:\n",
    "        turtle.back(50)\n",
    "        time.sleep(0.5)\n",
    "    r=random.randint(1,4)\n",
    "    hi=random.randint(1,100)\n",
    "    turtle_stamp.penup()\n",
    "    if r == 1:\n",
    "        turtle_stamp.left(hi)\n",
    "    if r == 2:\n",
    "        turtle_stamp.forward(hi)\n",
    "    if r == 3:\n",
    "        turtle_stamp.right(hi)\n",
    "    if r == 4:\n",
    "        turtle_stamp.back(hi)\n",
    "    o=o+1\n",
    "pen.write(\"watch splatoon 2 but with splatoon turtles!\" , font=(\"Open Sans\", 10, \"normal\"))"
   ]
  },
  {
   "cell_type": "code",
   "execution_count": 10,
   "metadata": {},
   "outputs": [
    {
     "data": {
      "text/plain": [
       "4"
      ]
     },
     "execution_count": 10,
     "metadata": {},
     "output_type": "execute_result"
    }
   ],
   "source": [
    "import random\n",
    "\n",
    "random.randint(1,4)"
   ]
  },
  {
   "cell_type": "code",
   "execution_count": 2,
   "metadata": {},
   "outputs": [
    {
     "ename": "NameError",
     "evalue": "name 'penup' is not defined",
     "output_type": "error",
     "traceback": [
      "\u001b[0;31m---------------------------------------------------------------------------\u001b[0m",
      "\u001b[0;31mNameError\u001b[0m                                 Traceback (most recent call last)",
      "\u001b[0;32m<ipython-input-2-31f28c32c186>\u001b[0m in \u001b[0;36m<module>\u001b[0;34m\u001b[0m\n\u001b[1;32m      7\u001b[0m     \u001b[0mturtle\u001b[0m\u001b[0;34m.\u001b[0m\u001b[0msetup\u001b[0m\u001b[0;34m(\u001b[0m\u001b[0;36m500\u001b[0m\u001b[0;34m,\u001b[0m\u001b[0;36m500\u001b[0m\u001b[0;34m)\u001b[0m\u001b[0;34m\u001b[0m\u001b[0;34m\u001b[0m\u001b[0m\n\u001b[1;32m      8\u001b[0m     \u001b[0mturtle\u001b[0m\u001b[0;34m.\u001b[0m\u001b[0mScreen\u001b[0m\u001b[0;34m(\u001b[0m\u001b[0;34m)\u001b[0m\u001b[0;34m.\u001b[0m\u001b[0mbgcolor\u001b[0m\u001b[0;34m(\u001b[0m\u001b[0;34m\"blue\"\u001b[0m\u001b[0;34m)\u001b[0m\u001b[0;34m\u001b[0m\u001b[0;34m\u001b[0m\u001b[0m\n\u001b[0;32m----> 9\u001b[0;31m     \u001b[0mpenup\u001b[0m\u001b[0;34m(\u001b[0m\u001b[0;34m)\u001b[0m\u001b[0;34m\u001b[0m\u001b[0;34m\u001b[0m\u001b[0m\n\u001b[0m\u001b[1;32m     10\u001b[0m     \u001b[0mturtle\u001b[0m\u001b[0;34m.\u001b[0m\u001b[0mturtlesize\u001b[0m\u001b[0;34m(\u001b[0m\u001b[0;36m5\u001b[0m\u001b[0;34m,\u001b[0m\u001b[0;36m5\u001b[0m\u001b[0;34m,\u001b[0m\u001b[0;36m2\u001b[0m\u001b[0;34m)\u001b[0m\u001b[0;34m\u001b[0m\u001b[0;34m\u001b[0m\u001b[0m\n\u001b[1;32m     11\u001b[0m     \u001b[0mturtle\u001b[0m\u001b[0;34m.\u001b[0m\u001b[0mresizemode\u001b[0m\u001b[0;34m(\u001b[0m\u001b[0;34m'auto'\u001b[0m\u001b[0;34m)\u001b[0m\u001b[0;34m\u001b[0m\u001b[0;34m\u001b[0m\u001b[0m\n",
      "\u001b[0;31mNameError\u001b[0m: name 'penup' is not defined"
     ]
    }
   ],
   "source": [
    "import turtle\n",
    "import time\n",
    "\n",
    "c=0\n",
    "while c<=10:\n",
    "    turtle.shape('turtle')\n",
    "    turtle.setup(500,500)\n",
    "    turtle.Screen().bgcolor(\"blue\")\n",
    "    turtle.turtlesize(5,5,2)\n",
    "    turtle.resizemode('auto')\n",
    "    turtle.turtlesize(outline=10)\n",
    "    turtle.forward(10)\n",
    "    time.sleep(1)\n",
    "    turtle.left(90)\n",
    "    turtle.forward(20)\n",
    "    time.sleep(1)\n",
    "    turtle.left(75)\n",
    "    turtle.forward(30)\n",
    "    time.sleep(1)\n",
    "    c=c+1"
   ]
  },
  {
   "cell_type": "code",
   "execution_count": 16,
   "metadata": {},
   "outputs": [
    {
     "data": {
      "text/plain": [
       "2"
      ]
     },
     "execution_count": 16,
     "metadata": {},
     "output_type": "execute_result"
    }
   ],
   "source": [
    "random.randint(1,2)"
   ]
  },
  {
   "cell_type": "code",
   "execution_count": 1,
   "metadata": {},
   "outputs": [
    {
     "ename": "NameError",
     "evalue": "name 'pen' is not defined",
     "output_type": "error",
     "traceback": [
      "\u001b[0;31m---------------------------------------------------------------------------\u001b[0m",
      "\u001b[0;31mNameError\u001b[0m                                 Traceback (most recent call last)",
      "\u001b[0;32m<ipython-input-1-a599ea798fe6>\u001b[0m in \u001b[0;36m<module>\u001b[0;34m\u001b[0m\n\u001b[1;32m      1\u001b[0m \u001b[0;32mimport\u001b[0m \u001b[0mturtle\u001b[0m\u001b[0;34m\u001b[0m\u001b[0;34m\u001b[0m\u001b[0m\n\u001b[1;32m      2\u001b[0m \u001b[0;34m\u001b[0m\u001b[0m\n\u001b[0;32m----> 3\u001b[0;31m \u001b[0mpen\u001b[0m\u001b[0;34m.\u001b[0m\u001b[0mcircle\u001b[0m\u001b[0;34m(\u001b[0m\u001b[0;36m100\u001b[0m\u001b[0;34m)\u001b[0m\u001b[0;34m\u001b[0m\u001b[0;34m\u001b[0m\u001b[0m\n\u001b[0m",
      "\u001b[0;31mNameError\u001b[0m: name 'pen' is not defined"
     ]
    }
   ],
   "source": [
    "import turtle\n",
    "\n",
    "pen.circle(100)"
   ]
  },
  {
   "cell_type": "code",
   "execution_count": null,
   "metadata": {},
   "outputs": [],
   "source": [
    "import turtle\n",
    "\n",
    "pen=turtle.Turtle()\n",
    "pen.color(\"orange\")\n",
    "pen.pensize(5)\n",
    "for i in range (1, 5):\n",
    "    pen.forward(100)\n",
    "    pen.left(90)\n",
    "pen.hideturtle()\n",
    "pen.write(\"oh ya mario time\" , font=(\"Open Sans\", 60, \"normal\"))"
   ]
  },
  {
   "cell_type": "code",
   "execution_count": 1,
   "metadata": {},
   "outputs": [],
   "source": [
    "import turtle\n",
    "pen=turtle.Turtle()\n",
    "pen.color(\"orange\")\n",
    "pen.fillcolor('orange')\n",
    "pen.begin_fill()\n",
    "pen.circle(50)\n",
    "pen.hideturtle()\n",
    "pen.end_fill()\n",
    "pen.write(\"done!\" , font=(\"Open Sans\", 60, \"normal\"))"
   ]
  },
  {
   "cell_type": "code",
   "execution_count": 1,
   "metadata": {},
   "outputs": [],
   "source": [
    "import turtle\n",
    "pen=turtle.Turtle()\n",
    "pen.color(\"orange\")\n",
    "pen.circle(200,270, 30)\n",
    "pen.write(\"oh ya i did it\" , font=(\"Open Sans\", 60, \"normal\"))"
   ]
  },
  {
   "cell_type": "code",
   "execution_count": 16,
   "metadata": {},
   "outputs": [
    {
     "ename": "Terminator",
     "evalue": "",
     "output_type": "error",
     "traceback": [
      "\u001b[0;31m---------------------------------------------------------------------------\u001b[0m",
      "\u001b[0;31mTerminator\u001b[0m                                Traceback (most recent call last)",
      "\u001b[0;32m<ipython-input-16-d27f76bc8d3a>\u001b[0m in \u001b[0;36m<module>\u001b[0;34m\u001b[0m\n\u001b[1;32m     36\u001b[0m \u001b[0;34m\u001b[0m\u001b[0m\n\u001b[1;32m     37\u001b[0m \u001b[0;32mwhile\u001b[0m \u001b[0;32mTrue\u001b[0m\u001b[0;34m:\u001b[0m\u001b[0;34m\u001b[0m\u001b[0;34m\u001b[0m\u001b[0m\n\u001b[0;32m---> 38\u001b[0;31m     \u001b[0mturtle\u001b[0m\u001b[0;34m.\u001b[0m\u001b[0mforward\u001b[0m\u001b[0;34m(\u001b[0m\u001b[0mspeed\u001b[0m\u001b[0;34m)\u001b[0m\u001b[0;34m\u001b[0m\u001b[0;34m\u001b[0m\u001b[0m\n\u001b[0m",
      "\u001b[0;32m~/opt/anaconda3/lib/python3.7/turtle.py\u001b[0m in \u001b[0;36mforward\u001b[0;34m(distance)\u001b[0m\n",
      "\u001b[0;31mTerminator\u001b[0m: "
     ]
    }
   ],
   "source": [
    "import turtle\n",
    "turtle.shape('turtle')\n",
    "turtle.forward(60)\n",
    "\n",
    "#Screen\n",
    "wn = turtle.Screen()\n",
    "wn.bgcolor(\"lightblue\")\n",
    "\n",
    "#Turtle Player\n",
    "turtle.color(\"red\")\n",
    "\n",
    "#Constant\n",
    "speed = 1\n",
    "\n",
    "def up():\n",
    "    if turtle.heading() != 270:\n",
    "        turtle.setheading(90)\n",
    "\n",
    "def down():\n",
    "    if turtle.heading() != 90:\n",
    "        turtle.setheading(270)\n",
    "    \n",
    "def left():\n",
    "    if turtle.heading() != 0:\n",
    "        turtle.setheading(180)\n",
    "\n",
    "def right():\n",
    "    if turtle.heading() != 180:\n",
    "        turtle.setheading(0)\n",
    "\n",
    "wn.listen()\n",
    "wn.onkey(up, 'Up')\n",
    "wn.onkey(down, 'Down')\n",
    "wn.onkey(left, 'Left')\n",
    "wn.onkey(right, 'Right')\n",
    "\n",
    "while True:\n",
    "    turtle.forward(speed)"
   ]
  }
 ],
 "metadata": {
  "kernelspec": {
   "display_name": "Python 3",
   "language": "python",
   "name": "python3"
  },
  "language_info": {
   "codemirror_mode": {
    "name": "ipython",
    "version": 3
   },
   "file_extension": ".py",
   "mimetype": "text/x-python",
   "name": "python",
   "nbconvert_exporter": "python",
   "pygments_lexer": "ipython3",
   "version": "3.7.4"
  }
 },
 "nbformat": 4,
 "nbformat_minor": 2
}
